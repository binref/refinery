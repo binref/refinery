{
 "cells": [
  {
   "cell_type": "markdown",
   "metadata": {},
   "source": [
    "# The Refinery Files 0x03: SedUpLoader C2s\n",
    "\n",
    "This is a tutorial about extracting the C2 domains from [SedUpLoader] samples. We will be working with the following one:\n",
    "```\n",
    "2396c9dac2184405f7d1f127bec88e56391e4315d4d2e5b951c795fdc1982d59\n",
    "```\n",
    "As always, remember that this is **malware**, do not execute it unless you know exactly what you are doing. For instructions about how to set up [refinery], see the main page and documentation.\n",
    "\n",
    "[refinery]: https://github.com/binref/refinery/\n",
    "[SedUpLoader]: https://malpedia.caad.fkie.fraunhofer.de/details/win.seduploader"
   ]
  },
  {
   "cell_type": "code",
   "execution_count": 1,
   "metadata": {},
   "outputs": [],
   "source": [
    "from tutorials import boilerplate\n",
    "boilerplate.store_sample(\n",
    "    name='a.bin',\n",
    "    hash='2396c9dac2184405f7d1f127bec88e56391e4315d4d2e5b951c795fdc1982d59'\n",
    ")"
   ]
  },
  {
   "cell_type": "code",
   "execution_count": 1,
   "metadata": {},
   "outputs": [
    {
     "name": "stdout",
     "output_type": "stream",
     "text": [
      "42.496 kB 2396c9dac2184405f7d1f127bec88e56391e4315d4d2e5b951c795fdc1982d59 a.bin\n"
     ]
    }
   ],
   "source": [
    "%ls"
   ]
  },
  {
   "cell_type": "markdown",
   "metadata": {},
   "source": [
    "## String Decryption\n",
    "\n",
    "After some reverse engineering, you discover that the function at `0x403FBA` implements the string decryption, which is an XOR with the following 13-byte sequence, stored at the virtual address `0x408b78`:\n",
    "```\n",
    "5f19362c533e6f1a0c6a202e34\n",
    "```\n",
    "Most calls to the string decryption function decrypt a constant string. Let us first decrypt those constant strings. The string decryption functions receives its two arguments (the encrypted string buffer and its length) on the stack, and the opcodes for such a call look similar to this:\n",
    "```\n",
    "00404a8f  6a XX                  PUSH  X\n",
    "00404a91  68 YY YY YY YY         PUSH  Y\n",
    "00404a96  ...\n",
    "00404a98  e8 1d f5 ff ff         CALL  STRING_DECRYPT\n",
    "```\n",
    "where `X` is the length and `Y` is the string address. We will first try to find all these call sequences. First, we use [emit] to output the contents of the malware sample by using the [rex] unit to search for the opcode sequence of pushing a nonzero byte and a 32bit-integer address to the stack:\n",
    "```\n",
    "rex \"\\x6A([^\\0])\\x68(.{4})\" {1}{2}\n",
    "```\n",
    "The second argument to [rex] is the format string `{1}{2}` which means to simply concatenate the first and second match group - in this case, this will be the single byte encoding the string length and the four bytes encoding its address. We then use the [struct] unit to parse the integers from the opcode sequence; the struct format `{n:B}{a:L}` contains two format fields: `{n:B}` to read the one-byte string length value into the variable `n`, and `{a:L}` to read the 4-byte string address value into the variable `a`. Finally, we use [pf] to pretty-print the output.\n",
    "\n",
    "[emit]: https://binref.github.io/#refinery.emit\n",
    "[rex]: https://binref.github.io/#refinery.rex\n",
    "[struct]: https://binref.github.io/#refinery.struct\n",
    "[pf]: https://binref.github.io/#refinery.pf"
   ]
  },
  {
   "cell_type": "code",
   "execution_count": 1,
   "metadata": {},
   "outputs": [
    {
     "name": "stdout",
     "output_type": "stream",
     "text": [
      "address=0x1FC0EAEE, length=7\n",
      "address=0xA48D6762, length=43\n",
      "address=0x000000A9, length=1\n",
      "address=0x00408150, length=14\n",
      "address=0x00000093, length=1\n",
      "address=0x00000244, length=1\n",
      "address=0x00408160, length=9\n",
      "address=0x00000094, length=1\n"
     ]
    },
    {
     "name": "stdout",
     "output_type": "stream",
     "text": [
      "address=0x0040816C, length=8\n",
      "address=0x00000097, length=1\n",
      "address=0x00000095, length=1\n",
      "address=0x00408144, length=12\n",
      "address=0x000001F2, length=9\n",
      "address=0x00000239, length=1\n",
      "address=0x0000017E, length=4\n",
      "address=0x0000017F, length=4\n",
      "address=0x000001A4, length=5\n",
      "address=0x000001A2, length=5\n",
      "address=0x00408AEC, length=1\n",
      "address=0x00408AF0, length=1\n",
      "address=0x00408AEC, length=1\n",
      "address=0x01010101, length=255\n",
      "address=0x40000000, length=2\n",
      "address=0x00408B88, length=12\n",
      "address=0x19F78C90, length=92\n",
      "address=0x5BC1D14F, length=94\n",
      "address=0xC930EA1E, length=93\n",
      "address=0x0D89AD05, length=75\n",
      "address=0x00408BA4, length=43\n",
      "address=0x00408D84, length=4\n",
      "address=0x00408D6C, length=5\n",
      "address=0x00408D74, length=6\n",
      "address=0x00408D7C, length=6\n",
      "address=0x00408BE2, length=1\n",
      "address=0x00408BE4, length=12\n",
      "address=0x00408D8C, length=14\n",
      "address=0x00408D84, length=4\n",
      "address=0x00408E04, length=12\n",
      "address=0x00408E10, length=2\n",
      "address=0x00408DA0, length=67\n",
      "address=0x00408DE4, length=6\n",
      "address=0x00408BF0, length=44\n",
      "address=0x00408DEC, length=14\n",
      "address=0x00408DFC, length=6\n",
      "address=0x00408D88, length=3\n",
      "address=0x00408D9C, length=2\n",
      "address=0x00408BF0, length=44\n",
      "address=0x00408BF0, length=44\n",
      "address=0x00408D68, length=2\n",
      "address=0x00408E14, length=11\n",
      "address=0x00408DA0, length=67\n",
      "address=0x00408DE4, length=6\n",
      "address=0x00408D84, length=4\n",
      "address=0x00408BE3, length=1\n",
      "address=0x00408BE0, length=1\n",
      "address=0x00408D6A, length=1\n",
      "address=0x00408D6B, length=1\n",
      "address=0x00408BE1, length=1\n",
      "address=0x00408BE1, length=1\n",
      "address=0x00408E7C, length=6\n",
      "address=0x00408E84, length=7\n",
      "address=0x00408E8C, length=6\n",
      "address=0x00408E94, length=7\n",
      "address=0x00408E9C, length=10\n",
      "address=0x00408EAC, length=11\n",
      "address=0x00408E60, length=8\n",
      "address=0x00408E68, length=10\n",
      "address=0x00408E74, length=6\n",
      "address=0x00408EA8, length=2\n",
      "address=0x80000000, length=1\n",
      "address=0x00408EF8, length=18\n",
      "address=0x00408EE0, length=23\n",
      "address=0x00408F0C, length=19\n",
      "address=0x00408FD4, length=29\n",
      "address=0x00008088, length=102\n"
     ]
    }
   ],
   "source": [
    "%emit a.bin | rex \"\\x6A([^\\0])\\x68(.{4})\" {1}{2} [| struct {n:B}{a:L} | pf address=0x{a:08X}, length={n} ]]"
   ]
  },
  {
   "cell_type": "markdown",
   "metadata": {},
   "source": [
    "It is already quite clear that some of these are probably false positives; for example, the \"address\" `0x00008088` is invalid. That should not be a problem for our next step, though. We now want to adjust the pipeline so that we actually extract the encrypted strings rather than just their addresses. At the end of our current pipeline, we are working on a stream of 5-byte sequences which encode a length (as one byte) and an address: We have already lost the data of the original sample when we ran the [rex] command. To correct this, we will first use [put] to store a backup of the sample data in a variable called `bin`. This variable will still be attached to the results of [rex] when they pass to the [struct] unit. We then alter the [struct] command as follows:\n",
    "```\n",
    "struct {n:B}{a:L} {bin}\n",
    "```\n",
    "We will still parse out the string length and address as variables `n` and `a`, respectively. The second argument of struct is an optional string format expression that defines the output body. In this case, we are instructing it to output the contents of the previously defined variable `bin`. After this command, the output will be several copies of the malware sample, each of which has meta variables `a` and `n` defined, specifying the virtual address and length of what is potentially an encrypted string. To extract the actual strings, we use the [vsnip] unit, which can extract data from executable formats based on virtual addresses. We specify the `--quiet` flag for [vsnip] because we already know that some addresses will be bogus and we want to simply ignore those warnings.\n",
    "\n",
    "[peek]: https://binref.github.io/#refinery.peek\n",
    "[put]: https://binref.github.io/#refinery.put\n",
    "[rex]: https://binref.github.io/#refinery.rex\n",
    "[struct]: https://binref.github.io/#refinery.struct\n",
    "[vsnip]: https://binref.github.io/#refinery.vsnip"
   ]
  },
  {
   "cell_type": "code",
   "execution_count": 1,
   "metadata": {},
   "outputs": [
    {
     "name": "stdout",
     "output_type": "stream",
     "text": [
      "00.014 kB: 18 7C 42 7C 21 51 0C 7F 7F 19 68 4B 55 2F                                         .|B|!Q....hKU/             \n",
      "00.009 kB: 17 7C 57 5C 12 52 03 75 6F                                                        .|W\\.R.uo                  \n",
      "00.008 kB: 17 7C 57 5C 15 4C 0A 7F                                                           .|W\\.L..                   \n",
      "00.012 kB: 13 76 57 48 1F 57 0D 68 6D 18 59 6F                                               .vWH.W.hm.Yo               \n",
      "00.001 kB: 32                                                                                2                          \n",
      "00.001 kB: 34                                                                                4                          \n",
      "00.001 kB: 32                                                                                2                          \n",
      "00.012 kB: 2D 6C 58 48 3F 52 5C 28 22 0F 58 4B                                               -lXH?R\\(\".XK               \n",
      "00.043 kB: 0C 40 65 78 16 73 33 59 79 18 52 4B 5A 2B 5A 59 42 27 4C 00 76 5F 0F 54 72 67 3A  .@ex.s3Yy.RKZ+ZYB'L.v_.Trg:\n",
      "00.004 kB: 0F 56 65 78                                                                       .Vex                       \n",
      "00.005 kB: 3B 70 45 47 6E                                                                    ;pEGn                      \n",
      "00.006 kB: 3D 6C 5F 40 37 03                                                                 =l_@7.                     \n",
      "00.006 kB: 36 77 5C 49 30 4A                                                                 6w\\I0J                     \n",
      "00.001 kB: 28                                                                                (                          \n",
      "00.012 kB: 6F 4E 50 15 6B 07 59 5A 3E 55 19 1F                                               oNP.k.YZ>U..               \n",
      "00.014 kB: 70 3C 45 09 20 1B 1C 35 33 4F 53 13 11 2C                                         p<E....53OS..,             \n",
      "00.004 kB: 0F 56 65 78                                                                       .Vex                       \n",
      "00.012 kB: 2C 2A 5C 1F 3B 54 5B 7D 39 0D 59 1D                                               ,*\\.;T[}9.Y.               \n",
      "00.002 kB: 62 24                                                                             b$                         \n",
      "00.067 kB: 0C 76 50 58 24 5F 1D 7F 50 27 49 4D 46 30 6A 59 4A 27 62 38 73 62 0E 4F 59 47 03  .vPX$_..P'IMF0jYJ'b8sb.OYG.\n",
      "00.006 kB: 1B 76 5B 4D 3A 50                                                                 .v[M:P                     \n",
      "00.044 kB: 38 76 59 4B 3F 5B 41 79 63 07 20 2E 34 5F 19 36 2C 53 3E 6F 1A 0C 6A 20 2E 34 5F  8vYK?[Ayc...4_.6,S>o..j..4_\n",
      "00.014 kB: 28 6E 41 02 34 51 00 7D 60 0F 0E 4D 5B 32                                         (nA.4Q.}`..M[2             \n",
      "00.006 kB: 2C 7C 57 5E 30 56                                                                 ,|W^0V                     \n",
      "00.003 kB: 18 5C 62                                                                          .\\b                        \n",
      "00.002 kB: 2E 24                                                                             .$                         \n",
      "00.044 kB: 38 76 59 4B 3F 5B 41 79 63 07 20 2E 34 5F 19 36 2C 53 3E 6F 1A 0C 6A 20 2E 34 5F  8vYK?[Ayc...4_.6,S>o..j..4_\n",
      "00.044 kB: 38 76 59 4B 3F 5B 41 79 63 07 20 2E 34 5F 19 36 2C 53 3E 6F 1A 0C 6A 20 2E 34 5F  8vYK?[Ayc...4_.6,S>o..j..4_\n",
      "00.002 kB: 36 7D                                                                             6}                         \n",
      "00.011 kB: AB E3 CD 31 5A FF 95 F1 74 EA 2B                                                  ...1Z...t.+                \n",
      "00.067 kB: 0C 76 50 58 24 5F 1D 7F 50 27 49 4D 46 30 6A 59 4A 27 62 38 73 62 0E 4F 59 47 03  .vPX$_..P'IMF0jYJ'b8sb.OYG.\n",
      "00.006 kB: 1B 76 5B 4D 3A 50                                                                 .v[M:P                     \n",
      "00.004 kB: 0F 56 65 78                                                                       .Vex                       \n",
      "00.001 kB: 3C                                                                                <                          \n",
      "00.001 kB: 6E                                                                                n                          \n",
      "00.001 kB: 39                                                                                9                          \n",
      "00.001 kB: 33                                                                                3                          \n",
      "00.001 kB: 6D                                                                                m                          \n",
      "00.001 kB: 6D                                                                                m                          \n",
      "00.006 kB: 04 7F 5F 40 36 63                                                                 .._@6c                     \n",
      "00.007 kB: 1A 61 53 4F 26 4A 0A                                                              .aSO&J.                    \n",
      "00.006 kB: 1B 7C 5A 49 27 5B                                                                 .|ZI'[                     \n",
      "00.007 kB: 04 36 50 45 3F 5B 32                                                              .6PE?[2                    \n",
      "00.010 kB: 04 6A 53 58 27 57 01 7D 7F 37                                                     .jSX'W.}.7                 \n",
      "00.011 kB: 04 36 45 49 27 4A 06 74 6B 19 7D                                                  .6EI'J.tk.}                \n",
      "00.008 kB: 19 70 5A 49 1D 5F 02 7F                                                           .pZI._..                   \n",
      "00.010 kB: 0F 78 42 44 07 51 3C 7B 7A 0F                                                     .xBD.Q<{z.                 \n",
      "00.006 kB: 0D 6C 58 48 3F 52                                                                 .lXH?R                     \n",
      "00.002 kB: 16 49                                                                             .I                         \n",
      "00.018 kB: 31 7C 42 5B 3C 4C 04 34 7C 18 4F 56 4D 71 71 42 58 23                             1|B[<L.4|.OVMqqBX#         \n",
      "00.023 kB: 31 7C 42 5B 3C 4C 04 34 7C 18 4F 56 4D 71 71 42 58 23 61 1F 75 7E 1E              1|B[<L.4|.OVMqqBX#a.u~.    \n",
      "00.019 kB: 37 6D 42 5C 20 03 07 6E 78 1A 53 14 1B 70 3C 45 16 76 4D                          7mB\\...nx.S..p<E.vM        \n",
      "00.029 kB: 0E 58 57 7C 16 50 21 7D 7E 3C 44 42 6E 08 7B 50 6B 10 4D 0D 77 69 39 19 46 63 0C  .XW|.P!}~<DBn.{Pk.M.wi9.Fc.\n"
     ]
    }
   ],
   "source": [
    "%emit a.bin [| put bin | rex \"\\x6A([^\\0])\\x68(.{4})\" {1}{2} | struct {n:B}{a:L} {bin} | vsnip -Q a:n | peek -b ]"
   ]
  },
  {
   "cell_type": "markdown",
   "metadata": {},
   "source": [
    "This looks promising already. Now all we have to do is to apply the actual [xor] operation to decrypt the strings:\n",
    "\n",
    "[xor]: https://binref.github.io/#refinery.xor"
   ]
  },
  {
   "cell_type": "code",
   "execution_count": 1,
   "metadata": {},
   "outputs": [
    {
     "name": "stdout",
     "output_type": "stream",
     "text": [
      "00.014 kB: GetProcessHeap\n",
      "00.009 kB: HeapAlloc\n",
      "00.008 kB: HeapFree\n",
      "00.012 kB: LoadLibraryA\n",
      "00.001 kB: m\n",
      "00.001 kB: k\n",
      "00.001 kB: m\n",
      "00.012 kB: rundll32.exe\n",
      "00.043 kB: SYSTEM\\\\CurrentControlSet\\\\Services\\\\Disk\\\\Enum\n",
      "00.004 kB: POST\n",
      "00.005 kB: disk=\n",
      "00.006 kB: build=\n",
      "00.006 kB: inject\n",
      "00.001 kB: w\n",
      "00.012 kB: 0Wf9896@2?91\n",
      "00.014 kB: /%s%s%s/?%s=%s\n",
      "00.004 kB: POST\n",
      "00.012 kB: s3j3hj4g5gy3\n",
      "00.002 kB: ==\n",
      "00.067 kB: Software\\\\Microsoft\\\\Windows\\\\CurrentVersion\\\\Internet Settings\\\\Servers\n",
      "00.006 kB: Domain\n",
      "00.044 kB: google.com\\0\\0\\0\\0\\0\\0\\0\\0\\0\\0\\0\\0\\0\\0\\0\\0\\0\\0\\0\\0\\0\\0\\0\\0\\0\\0\\0\\0\\0\\0\\0\\0\\0\\0\n",
      "00.014 kB: www.google.com\n",
      "00.006 kB: search\n",
      "00.003 kB: GET\n",
      "00.002 kB: q=\n",
      "00.044 kB: google.com\\0\\0\\0\\0\\0\\0\\0\\0\\0\\0\\0\\0\\0\\0\\0\\0\\0\\0\\0\\0\\0\\0\\0\\0\\0\\0\\0\\0\\0\\0\\0\\0\\0\\0\n",
      "00.044 kB: google.com\\0\\0\\0\\0\\0\\0\\0\\0\\0\\0\\0\\0\\0\\0\\0\\0\\0\\0\\0\\0\\0\\0\\0\\0\\0\\0\\0\\0\\0\\0\\0\\0\\0\\0\n",
      "00.002 kB: id\n",
      "00.011 kB: \\xf4\\xfa\\xfb\\x1d\\t\\xc1\\xfa\\xebx\\x80\\v\n",
      "00.067 kB: Software\\\\Microsoft\\\\Windows\\\\CurrentVersion\\\\Internet Settings\\\\Servers\n",
      "00.006 kB: Domain\n",
      "00.004 kB: POST\n",
      "00.001 kB: c\n",
      "00.001 kB: 1\n",
      "00.001 kB: f\n",
      "00.001 kB: l\n",
      "00.001 kB: 2\n",
      "00.001 kB: 2\n",
      "00.006 kB: [file]\n",
      "00.007 kB: Execute\n",
      "00.006 kB: Delete\n",
      "00.007 kB: [/file]\n",
      "00.010 kB: [settings]\n",
      "00.011 kB: [/settings]\n",
      "00.008 kB: FileName\n",
      "00.010 kB: PathToSave\n",
      "00.006 kB: Rundll\n",
      "00.002 kB: IP\n",
      "00.018 kB: network.proxy.http\n",
      "00.023 kB: network.proxy.http_port\n",
      "00.019 kB: https=https://%s:%s\n",
      "00.029 kB: QAaPEnNgrVdlZWbfGCsbmeS9hWSNS\n"
     ]
    }
   ],
   "source": [
    "%emit a.bin [| put bin | rex \"\\x6A([^\\0])\\x68(.{4})\" {1}{2} | struct {n:B}{a:L} {bin} | vsnip -Q a:n | xor h:5f19362c533e6f1a0c6a202e34 | peek -be ]]"
   ]
  },
  {
   "cell_type": "markdown",
   "metadata": {},
   "source": [
    "That is a little disappointing; this doesn't look like we found the C2 servers. Looks like we will have to do a little more digging."
   ]
  },
  {
   "cell_type": "markdown",
   "metadata": {},
   "source": [
    "## C2 Servers\n",
    "\n",
    "After looking around some more, it turns out that there is a single call to the string decryption function that does not receive a constant argument. The call is at `0x405837` and it is used to decrypt four chunks of size `44` each, starting at offset `0x408bf0`. No need to be coy about it - this is indeed the C2 server list, except for the first entry, which is a domain used for connectivity checks (it's `google.com` in this sample). Decrypting the C2 servers is now fairly straightforward:\n",
    "\n",
    "[push]: https://binref.github.io/#refinery.push\n",
    "[pop]: https://binref.github.io/#refinery.pop"
   ]
  },
  {
   "cell_type": "code",
   "execution_count": 1,
   "metadata": {},
   "outputs": [
    {
     "name": "stdout",
     "output_type": "stream",
     "text": [
      "00.012 kB: google[.]com\n",
      "00.027 kB: microsoftstoreservice[.]com\n",
      "00.017 kB: servicetlnt[.]net\n",
      "00.019 kB: windowsdefltr[.]net\n"
     ]
    }
   ],
   "source": [
    "%emit a.bin | vsnip 0x408bf0:4*44 | chop 44 [| xor h:5f19362c533e6f1a0c6a202e34 | trim h:00 | defang | peek -be ]]"
   ]
  },
  {
   "cell_type": "markdown",
   "metadata": {},
   "source": [
    "We have again used the [vsnip] unit to read data from a virtual address, in this case we read `4*44` (this expression will be evaluated to `176`) bytes from the address where the encrypted C2 array is stored, and then we [chop] this buffer into 4 buffers, each of which has length `44`. Then, we use a frame to decrypt each of these buffers with the XOR key. To make the output prettier, we [trim] trailing null bytes and [defang] the network indicators before we have a [peek].\n",
    "\n",
    "[chop]: https://binref.github.io/#refinery.chop\n",
    "[defang]: https://binref.github.io/#refinery.defang\n",
    "[peek]: https://binref.github.io/#refinery.peek\n",
    "[trim]: https://binref.github.io/#refinery.trim\n",
    "[vsnip]: https://binref.github.io/#refinery.vsnip"
   ]
  },
  {
   "cell_type": "markdown",
   "metadata": {},
   "source": [
    "This is nice and all, but let's use this opportunity to learn about [push] and [pop]. The goal is to avoid having to hard-code the key into the pipeline, so we would like to use [vsnip] to first extract the key, and then again to extract the C2 server list. The finished pipeline looks as follows:\n",
    "\n",
    "[push]: https://binref.github.io/#refinery.push\n",
    "[pop]: https://binref.github.io/#refinery.pop\n",
    "[vsnip]: https://binref.github.io/#refinery.vsnip"
   ]
  },
  {
   "cell_type": "code",
   "execution_count": 1,
   "metadata": {},
   "outputs": [
    {
     "name": "stdout",
     "output_type": "stream",
     "text": [
      "------------------------------------------------------------------------------------------------------------------------\n",
      "42.496 kB; 79.26% entropy; PE32 executable (GUI) Intel 80386, for MS Windows\n",
      "  key = h:5f19362c533e6f1a0c6a202e34\n",
      "------------------------------------------------------------------------------------------------------------------------\n",
      "00000: 4D 5A 90 00 03 00 00 00 04 00 00 00 FF FF 00 00 B8 00 00 00 00 00 00 00 40 00 00 00  MZ......................@...\n",
      "0001C: 00 00 00 00 00 00 00 00 00 00 00 00 00 00 00 00 00 00 00 00 00 00 00 00 00 00 00 00  ............................\n",
      "00038: 00 00 00 00 D8 00 00 00 0E 1F BA 0E 00 B4 09 CD 21 B8 01 4C CD 21 54 68 69 73 20 70  ................!..L.!This.p\n",
      "00054: 72 6F 67 72 61 6D 20 63 61 6E 6E 6F 74 20 62 65 20 72 75 6E 20 69 6E 20 44 4F 53 20  rogram.cannot.be.run.in.DOS.\n",
      "00070: 6D 6F 64 65 2E 0D 0D 0A 24 00 00 00 00 00 00 00 29 9B A4 67 6D FA CA 34 6D FA CA 34  mode....$.......)..gm..4m..4\n",
      "------------------------------------------------------------------------------------------------------------------------\n",
      "00.012 kB: google[.]com\n",
      "00.027 kB: microsoftstoreservice[.]com\n",
      "00.017 kB: servicetlnt[.]net\n",
      "00.019 kB: windowsdefltr[.]net\n"
     ]
    }
   ],
   "source": [
    "%%emit a.bin | push [\n",
    "    | vsnip 0x408b78:13\n",
    "    | pop key\n",
    "    | peek -l5\n",
    "    | vsnip 0x408bf0:4*44\n",
    "    | chop 44 [\n",
    "        | xor var:key\n",
    "        | trim h:00\n",
    "        | defang\n",
    "        | peek -be ]]"
   ]
  },
  {
   "cell_type": "markdown",
   "metadata": {},
   "source": [
    "The [push] unit creates a hidden copy of the current chunk and inserts it at the end of the current frame. Hence, after the [push] instruction, the frame contains a visible copy of the sample data, and one invisible copy. Invisible chunks are passed on along the frame, but refinery units to not operate on them. Hence, the first [vsnip] command is only executed on the visible chunk, extracting the 13 key bytes from their known address. The invocation of [pop] does two things: It takes the first visible chunk in the current frame and associates it with the variable `key`. Then, it makes all remaining chunks visible again and attaches the variable `key` to them. In this case, we end up with a copy of the original sample, with a variable named `key`, containing the decryption key. Everything after that is identical to the previous pipeline, with the exception that we can now pass the variable `key` to the [xor] unit rather than the hardcoded value.\n",
    "\n",
    "[push]: https://binref.github.io/#refinery.push\n",
    "[pop]: https://binref.github.io/#refinery.pop\n",
    "[vsnip]: https://binref.github.io/#refinery.vsnip\n",
    "[xor]: https://binref.github.io/#refinery.xor"
   ]
  },
  {
   "cell_type": "markdown",
   "metadata": {},
   "source": [
    "## Automatic C2 Extraction\n",
    "\n",
    "Finally, let us combine the techniques we have seen into a pipeline that can (in some cases) extract the C2 configuration data from SedUpLoader samples:"
   ]
  },
  {
   "cell_type": "code",
   "execution_count": 1,
   "metadata": {},
   "outputs": [
    {
     "name": "stdout",
     "output_type": "stream",
     "text": [
      "00.012 kB: google[.]com\n",
      "00.027 kB: microsoftstoreservice[.]com\n",
      "00.017 kB: servicetlnt[.]net\n",
      "00.019 kB: windowsdefltr[.]net\n"
     ]
    }
   ],
   "source": [
    "%%emit a.bin [\n",
    "    | push\n",
    "    | put bin\n",
    "    | rex \"\\xc7\\x45(.)(.\\0{3}).{0,4}\\xf7\\x75\\1\\x8a\\x82(....)\\x32\\x04\\x0F\" {2}{3}\n",
    "    | struct {kl:L}{ka:L} {bin}\n",
    "    | vsnip ka:kl\n",
    "    | pop key\n",
    "    | put bin\n",
    "    | rex \"\\xB8(....).{0,10}\\x6A(.)\\x50\\xE8\" {1}{2}\n",
    "    | struct {a:L}{n:B} {bin}\n",
    "    | vsnip a\n",
    "    | chop n [\n",
    "        | xor var:key\n",
    "        | trim h:00\n",
    "        | iffp domain\n",
    "        | defang\n",
    "        | peek -be ]]"
   ]
  },
  {
   "cell_type": "markdown",
   "metadata": {},
   "source": [
    "This combines the techniques from the previous two sections. Here is a quick overview of how the pipeline works. The first regular expression looks for the following opcode sequence from the string decryption function, where `X` is the stack offset of the chunk size variable, `Y` is the chunk size value, and `Z` is the address of the key string:\n",
    "```\n",
    "00403fe0  c7 45 XX YY YY YY YY   MOV   dword ptr [EBP + X], Y\n",
    "          ...\n",
    "00403fe9  f7 75 XX               DIV   dword ptr [EBP + X]\n",
    "00403fec  8a 82 ZZ ZZ ZZ ZZ      MOV   AL, byte ptr [EDX + Z]\n",
    "00403ff2  32 04 0f               XOR   AL, byte ptr [EDI + ECX*0x1]\n",
    "```\n",
    "We use [push]/[pop] as in the previous pipeline, except that we did not hard-code the offset of the key buffer, but instead searched for a characteristic opcode sequence to determine the address. The second regular expression looks for the following opcode sequence from the code that decrypts the C2 servers:\n",
    "```\n",
    "0040582a  b8 XX XX XX XX         MOV   EAX, X\n",
    "          ...\n",
    "00405834  6a YY                  PUSH  Y\n",
    "00405836  50                     PUSH  EAX\n",
    "00405837  e8 7e e7 ff ff         CALL  STRING_DECRYPT\n",
    "```\n",
    "The value `X` is the address of the list and `Y` contains the size of each chunk. The former is then stored in the variable `a`, the latter in the variable `n`. After having determined these values, we can again proceed as in the previous pipeline with a few modifications: We [vsnip] _all_ memory starting at `a`, then [chop] it into chunks of size `n` and decrypt them. Now, we have likely extracted and decrypted quite a few chunks that are not actually C2 domains. To filter them out, we use the [iffp] unit: It takes as its parameter the name of any pattern known to [carve] and [xtp] and removes any chunk from the frame that does not match this pattern. In this case, we will only forward chunks that look like a domain. And that's it - a somewhat automatic SedUpLoader config extractor in refinery!\n",
    "\n",
    "[push]: https://binref.github.io/#refinery.push\n",
    "[pop]: https://binref.github.io/#refinery.pop\n",
    "[vsnip]: https://binref.github.io/#refinery.vsnip\n",
    "[chop]: https://binref.github.io/#refinery.chop\n",
    "[iffp]: https://binref.github.io/#refinery.iffp\n",
    "[carve]: https://binref.github.io/#refinery.carve\n",
    "[xtp]: https://binref.github.io/#refinery.xtp\n",
    "[xor]: https://binref.github.io/#refinery.xor"
   ]
  }
 ],
 "metadata": {
  "interpreter": {
   "hash": "4bb4b02bf57a2c25456a741474d02d2de926aec3c451f22b312ec34f66909bb4"
  },
  "kernelspec": {
   "display_name": "Python 3.9.7 ('venv': venv)",
   "language": "python",
   "name": "python3"
  },
  "language_info": {
   "codemirror_mode": {
    "name": "ipython",
    "version": 3
   },
   "file_extension": ".py",
   "mimetype": "text/x-python",
   "name": "python",
   "nbconvert_exporter": "python",
   "pygments_lexer": "ipython3",
   "version": "3.12.6"
  },
  "orig_nbformat": 4
 },
 "nbformat": 4,
 "nbformat_minor": 2
}